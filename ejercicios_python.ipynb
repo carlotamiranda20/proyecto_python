{
 "cells": [
  {
   "cell_type": "code",
   "execution_count": 3,
   "id": "af477ece",
   "metadata": {},
   "outputs": [],
   "source": [
    "'''Ejercicio 1. Escribe una función que reciba una cadena de texto como parámetro y devuelva un diccionario con las frecuencias\n",
    "de cada letra en la cadena. Los espacios no deben ser considerados.'''\n",
    "\n",
    "def frecuencias_letras(texto):\n",
    "    diccionario_frecuencias = {}\n",
    "    for i in texto:\n",
    "        if i != ' ':  # salta espacios \n",
    "            if i in diccionario_frecuencias:\n",
    "                diccionario_frecuencias[i] += 1\n",
    "            else:\n",
    "                diccionario_frecuencias[i] = 1\n",
    "    return diccionario_frecuencias"
   ]
  },
  {
   "cell_type": "code",
   "execution_count": 1,
   "id": "a06e2eb5",
   "metadata": {},
   "outputs": [],
   "source": [
    "'''Ejercicio 2. Dada una lista de números, obtén una nueva lista con el doble de cada valor. Usa la función'''\n",
    "def duplicar_lista(lista):\n",
    "    return list(map(lambda x: x * 2, lista))\n"
   ]
  },
  {
   "cell_type": "code",
   "execution_count": 12,
   "id": "01d874fc",
   "metadata": {},
   "outputs": [],
   "source": [
    "'''Ejercicio 3. Escribe una función que tome una lista de palabras y una palabra objetivo como parámetros. La función debe\n",
    "devolver una lista con todas las palabras de la lista original que contengan la palabra objetivo.'''\n",
    "\n",
    "def palabras(lista,objetivo):\n",
    "    resultado=[]\n",
    "    for pal in lista:\n",
    "        if objetivo in pal: \n",
    "            resultado.append(pal)\n",
    "    return resultado"
   ]
  },
  {
   "cell_type": "code",
   "execution_count": 14,
   "id": "cde20c27",
   "metadata": {},
   "outputs": [],
   "source": [
    "'''Ejercicio 4. Genera una función que calcule la diferencia entre los valores de dos listas. Usa la función map()'''\n",
    "\n",
    "def diferencia_listas(lista1, lista2):\n",
    "    return list(map(lambda x, y: x - y, lista1, lista2))\n"
   ]
  },
  {
   "cell_type": "code",
   "execution_count": 1,
   "id": "0d4edc28",
   "metadata": {},
   "outputs": [],
   "source": [
    "'''Ejercicio 5. Escribe una función que tome una lista de números como parámetro y un valor opcional nota_aprobado, que por\n",
    "defecto es 5. La función debe calcular la media de los números en la lista y determinar si la media es mayor o igual\n",
    "que nota aprobado. Si es así, el estado será \"aprobado\", de lo contrario, será \"suspenso\". La función debe devolver\n",
    "una tupla que contenga la media y el estado.'''\n",
    "\n",
    "def evaluacion(numeros, nota_aprobado=5):\n",
    "    media = sum(numeros) / len(numeros)\n",
    "    if media >= nota_aprobado:\n",
    "        estado = \"aprobado\" \n",
    "    else: \n",
    "        estado = \"suspenso\"\n",
    "    return (media, estado)"
   ]
  },
  {
   "cell_type": "code",
   "execution_count": null,
   "id": "b3e46813",
   "metadata": {},
   "outputs": [],
   "source": [
    "'''Ejercicio 6. Escribe una función que calcule el factorial de un número de manera recursiva.'''\n",
    "def factorial(n):\n",
    "    if n == 0 or n == 1:\n",
    "        return 1\n",
    "    return n * factorial(n - 1)"
   ]
  },
  {
   "cell_type": "code",
   "execution_count": 29,
   "id": "8b8034a5",
   "metadata": {},
   "outputs": [],
   "source": [
    "'''Ejercicio 7. Genera una función que convierta una lista de tuplas a una lista de strings. Usa la función map()'''\n",
    "\n",
    "def tuplas_a_strings(lista_tuplas):\n",
    "    m=map(lambda t: ' '.join(map(str, t)), lista_tuplas)\n",
    "    return list(m) # es una lista de strings\n"
   ]
  },
  {
   "cell_type": "code",
   "execution_count": null,
   "id": "8362d34a",
   "metadata": {},
   "outputs": [
    {
     "name": "stdout",
     "output_type": "stream",
     "text": [
      "Resultado: 0.5714285714285714\n",
      "División realizada con éxito.\n"
     ]
    }
   ],
   "source": [
    "'''Ejercicio 8. Escribe un programa que pida al usuario dos números e intente dividirlos. Si el usuario ingresa un valor no numérico\n",
    "o intenta dividir por cero, maneja esas excepciones de manera adecuada. Asegúrate de mostrar un mensaje\n",
    "indicando si la división fue exitosa o no.'''\n",
    "\n",
    "while True: #bucle hasta que no salga error\n",
    "    try:\n",
    "        num1 = float(input(\"Ingresa el primer número: \"))\n",
    "        num2 = float(input(\"Ingresa el segundo número: \"))\n",
    "        \n",
    "        resultado = num1 / num2\n",
    "    except ValueError:\n",
    "        print(\"Error: Debes ingresar valores numéricos válidos. Intenta de nuevo.\")\n",
    "        continue\n",
    "    except ZeroDivisionError:\n",
    "        print(\"Error: No se puede dividir entre cero. Intenta de nuevo.\")\n",
    "        continue\n",
    "    else:\n",
    "        print(f\"Resultado: {resultado}\")\n",
    "        print(\"División realizada con éxito.\")\n",
    "        break\n",
    "\n"
   ]
  },
  {
   "cell_type": "code",
   "execution_count": 38,
   "id": "9c4a9feb",
   "metadata": {},
   "outputs": [],
   "source": [
    "'''Ejercicio 9. Escribe una función que tome una lista de nombres de mascotas como parámetro y devuelva una nueva lista\n",
    "excluyendo ciertas mascotas prohibidas en España. La lista de mascotas a excluir es [\"Mapache\", \"Tigre\",\n",
    "\"Serpiente Pitón\", \"Cocodrilo\", \"Oso\"].Usa la función filter()'''\n",
    "\n",
    "def filtro_mascotas(mascotas):\n",
    "    mascotas_prohibidas = [\"Mapache\", \"Tigre\", \"Serpiente Pitón\", \"Cocodrilo\", \"Oso\"]\n",
    "    filtro=filter(lambda mascota: mascota not in mascotas_prohibidas, mascotas)\n",
    "    return list(filtro)\n"
   ]
  },
  {
   "cell_type": "code",
   "execution_count": 14,
   "id": "caf47baf",
   "metadata": {},
   "outputs": [],
   "source": [
    "'''Ejercicio 10. Escribe una función que reciba una lista de números y calcule su promedio. Si la lista está vacía, lanza una\n",
    "excepción personalizada y maneja el error adecuadamente.'''\n",
    "\n",
    "\n",
    "def calcular_promedio(numeros):\n",
    "    try:\n",
    "        if len(numeros) == 0:\n",
    "            raise ValueError(\"La lista está vacía. No se puede calcular el promedio.\")\n",
    "        else: \n",
    "            return sum(numeros) / len(numeros)\n",
    "    except ValueError as e:\n",
    "        print('No se puede calcular el promedio')\n",
    "        return None\n"
   ]
  },
  {
   "cell_type": "code",
   "execution_count": null,
   "id": "47c6343a",
   "metadata": {},
   "outputs": [],
   "source": [
    "'''Ejercicio 11. Escribe un programa que pida al usuario que introduzca su edad. Si el usuario ingresa un valor no numérico o un\n",
    "valor fuera del rango esperado (por ejemplo, menor que 0 o mayor que 120), maneja las excepciones\n",
    "adecuadamente'''\n",
    "\n",
    "while True:\n",
    "    try:\n",
    "        edad= int(input(\"Introduce tu edad: \"))\n",
    "    \n",
    "        if edad < 0 or edad > 120:\n",
    "            raise ValueError(\"La edad debe estar entre 0 y 120 años.\")\n",
    "        \n",
    "        print(f\"Edad válida: {edad} años\")\n",
    "        break  # Termina si es válido\n",
    "\n",
    "    except ValueError as e:\n",
    "            print(f\" Error: {e}. Introduce un valor númerico.\")"
   ]
  },
  {
   "cell_type": "code",
   "execution_count": null,
   "id": "f3d3429c",
   "metadata": {},
   "outputs": [],
   "source": [
    "'''Ejercicio 12. Genera una función que al recibir una frase devuelva una lista con la longitud de cada palabra. Usa la función map()'''\n",
    "\n",
    "def long_palabras(frase):\n",
    "    palabras = frase.split()  # separa la frase en palabras\n",
    "    return list(map(len, palabras))  # aplica len() a cada palabra"
   ]
  },
  {
   "cell_type": "code",
   "execution_count": 7,
   "id": "7f1b17c0",
   "metadata": {},
   "outputs": [],
   "source": [
    "'''Ejercicio 13. Genera una función la cual, para un conjunto de caracteres, devuelva una lista de tuplas con cada letra en\n",
    "mayúsculas y minúsculas. Las letras no pueden estar repetidas .Usa la función map()'''\n",
    "\n",
    "\n",
    "def letras_mayus_minus(caracteres):\n",
    "    letras_vistas = set() #guarda las letras que ya se encontraron (elimina duplicados)\n",
    "    letras_ordenadas = []\n",
    "\n",
    "    for c in caracteres:\n",
    "        if c.isalpha() and c.lower() not in letras_vistas:\n",
    "            letras_vistas.add(c.lower()) \n",
    "            letras_ordenadas.append(c)\n",
    "\n",
    "\n",
    "    return list(map(lambda x: (x.upper(), x.lower()), letras_ordenadas)) #crea tuplas de la forma (mayúscula, minúscula)\n"
   ]
  },
  {
   "cell_type": "code",
   "execution_count": 10,
   "id": "7983b3c2",
   "metadata": {},
   "outputs": [],
   "source": [
    "'''Ejercicio 14. Crea una función que retorne las palabras de una lista de palabras que comience con una letra en especifico. Usa la\n",
    "función filter()'''\n",
    "\n",
    "def pal_letra(lista_palabras, letra):\n",
    "    letra = letra.lower()  # no distingue entre mayúsculas y minúsculas\n",
    "    return list(filter(lambda palabra: palabra.lower().startswith(letra), lista_palabras))\n",
    "\n",
    "\n"
   ]
  },
  {
   "cell_type": "code",
   "execution_count": 12,
   "id": "0189377a",
   "metadata": {},
   "outputs": [],
   "source": [
    "'''Ejercicio15. Crea una función lambda que sume 3 a cada número de una lista dada.'''\n",
    "\n",
    "suma_tres = lambda lista: list(map(lambda x: x + 3, lista))\n"
   ]
  },
  {
   "cell_type": "code",
   "execution_count": null,
   "id": "b9811cef",
   "metadata": {},
   "outputs": [],
   "source": [
    "'''Ejercicio 16. Escribe una función que tome una cadena de texto y un número entero n como parámetros y devuelva una lista de\n",
    "todas las palabras que sean más largas que n. Usa la función filter()'''\n",
    "\n",
    "def pal_largas(texto, n):\n",
    "    palabras = texto.split()  # Divide el texto en palabras\n",
    "    return list(filter(lambda palabra: len(palabra) > n, palabras))\n"
   ]
  },
  {
   "cell_type": "code",
   "execution_count": null,
   "id": "1a9b68d2",
   "metadata": {},
   "outputs": [],
   "source": [
    "'''Ejercicio 17. Crea una función que tome una lista de dígitos y devuelva el número correspondiente. Por ejemplo, [5,7,2]\n",
    "corresponde al número quinientos setenta y dos (572). Usa la función reduce()'''\n",
    "\n",
    "from functools import reduce\n",
    "\n",
    "def dig_a_num(digitos):\n",
    "    return reduce(lambda x, y: x * 10 + y, digitos)\n"
   ]
  },
  {
   "cell_type": "code",
   "execution_count": null,
   "id": "7084f1a4",
   "metadata": {},
   "outputs": [
    {
     "name": "stdout",
     "output_type": "stream",
     "text": [
      "Estudiantes con calificación mayor o igual a 90:\n",
      "{'nombre': 'Rodrigo', 'edad': 17, 'calificacion': 94}\n",
      "{'nombre': 'Juan', 'edad': 27, 'calificacion': 96}\n",
      "{'nombre': 'Matilde', 'edad': 18, 'calificacion': 90}\n"
     ]
    }
   ],
   "source": [
    "'''Ejercicio 18. Escribe un programa en Python que cree una lista de diccionarios que contenga información de estudiantes\n",
    "(nombre, edad, calificación) y use la función filter para extraer a los estudiantes con una calificación mayor o igual a\n",
    "90. Usa la función filter()'''\n",
    "\n",
    "# Lista\n",
    "estudiantes = [\n",
    "    {\"nombre\": \"Carlota\", \"edad\": 23, \"calificacion\": 48},\n",
    "    {\"nombre\": \"Rodrigo\", \"edad\": 17, \"calificacion\": 94},\n",
    "    {\"nombre\": \"Pedro\", \"edad\": 32, \"calificacion\": 85},\n",
    "    {\"nombre\": \"Juan\", \"edad\": 27, \"calificacion\": 96},\n",
    "    {\"nombre\": \"Matilde\", \"edad\": 18, \"calificacion\": 90}]\n",
    "\n",
    "# Filtrar estudiantes\n",
    "estudiantes_destacados = list(filter(lambda x: x[\"calificacion\"] >= 90, estudiantes))\n",
    "\n",
    "# Mostrar resultado\n",
    "print(\"Estudiantes con calificación mayor o igual a 90:\")\n",
    "for estudiante in estudiantes_destacados:\n",
    "    print(estudiante)\n"
   ]
  },
  {
   "cell_type": "code",
   "execution_count": 15,
   "id": "a33ae972",
   "metadata": {},
   "outputs": [],
   "source": [
    "'''Ejercicio 19. Crea una función lambda que filtre los números impares de una lista dada.'''\n",
    "\n",
    "impares = lambda lista: list(filter(lambda x: x % 2 != 0, lista))\n"
   ]
  },
  {
   "cell_type": "code",
   "execution_count": null,
   "id": "0fc84934",
   "metadata": {},
   "outputs": [],
   "source": [
    "'''Ejercicio 20. Para una lista con elementos tipo integer y string obtén una nueva lista sólo con los valores int. Usa la función\n",
    "filter()'''\n",
    "\n",
    "def filter_enteros(lista):\n",
    "    return list(filter(lambda x: type(x) == int, lista))\n"
   ]
  },
  {
   "cell_type": "code",
   "execution_count": 16,
   "id": "6a253e22",
   "metadata": {},
   "outputs": [],
   "source": [
    "'''Ejercicio 21. Crea una función que calcule el cubo de un número dado mediante una función lambda'''\n",
    "\n",
    "cubo = lambda x: x ** 3"
   ]
  },
  {
   "cell_type": "code",
   "execution_count": 17,
   "id": "c239f728",
   "metadata": {},
   "outputs": [],
   "source": [
    "'''Ejercicio 22. Dada una lista numérica, obtén el producto total de los valores de dicha lista. Usa la función reduce() .'''\n",
    "\n",
    "from functools import reduce\n",
    "\n",
    "def producto(lista):\n",
    "    return reduce(lambda x, y: x * y, lista)\n"
   ]
  },
  {
   "cell_type": "code",
   "execution_count": 18,
   "id": "04b91a0c",
   "metadata": {},
   "outputs": [],
   "source": [
    "'''Ejercicio 23.  Concatena una lista de palabras.Usa la función reduce() .'''\n",
    "\n",
    "from functools import reduce\n",
    "\n",
    "def concatenacion(lista):\n",
    "    return reduce(lambda x, y: x + y, lista)"
   ]
  },
  {
   "cell_type": "code",
   "execution_count": 19,
   "id": "1f18cfe7",
   "metadata": {},
   "outputs": [],
   "source": [
    "'''Ejercicio 24. 24. Calcula la diferencia total en los valores de una lista. Usa la función reduce() .'''\n",
    "\n",
    "\n",
    "from functools import reduce\n",
    "\n",
    "def diferencia(lista):\n",
    "    return reduce(lambda x, y: x - y, lista)"
   ]
  },
  {
   "cell_type": "code",
   "execution_count": 20,
   "id": "223d7a46",
   "metadata": {},
   "outputs": [],
   "source": [
    "'''Ejercicio 25. Crea una función que cuente el número de caracteres en una cadena de texto dada.'''\n",
    "\n",
    "def num_caracteres(cadena):\n",
    "    return len(cadena)"
   ]
  },
  {
   "cell_type": "code",
   "execution_count": 21,
   "id": "49512335",
   "metadata": {},
   "outputs": [],
   "source": [
    "'''Ejercicio 26. Crea una función lambda que calcule el resto de la división entre dos números dados.'''\n",
    "resto = lambda x, y: x % y\n"
   ]
  },
  {
   "cell_type": "code",
   "execution_count": 24,
   "id": "fb1ee6a6",
   "metadata": {},
   "outputs": [],
   "source": [
    "'''Ejercicio 27. Crea una función que calcule el promedio de una lista de números'''\n",
    "\n",
    "\n",
    "def promedio(lista):\n",
    "    if len(lista) == 0:\n",
    "        return 0\n",
    "    else:\n",
    "        return sum(lista)/len(lista)"
   ]
  },
  {
   "cell_type": "code",
   "execution_count": null,
   "id": "1c54896d",
   "metadata": {},
   "outputs": [
    {
     "name": "stdout",
     "output_type": "stream",
     "text": [
      "2\n"
     ]
    }
   ],
   "source": [
    "'''Ejercicio 28. Crea una función que busque y devuelva el primer elemento duplicado en una lista dada'''\n",
    "\n",
    "def duplicado(lista):\n",
    "    vistos = []\n",
    "    for i in lista:\n",
    "        if i in vistos:\n",
    "            return i\n",
    "        vistos.append(i)\n",
    "    return print('No hay ningún elemento duplicado en la lista')  # Si no hay duplicados"
   ]
  },
  {
   "cell_type": "code",
   "execution_count": 2,
   "id": "476c2344",
   "metadata": {},
   "outputs": [],
   "source": [
    "'''Ejercicio 29. Crea una función que convierta una variable en una cadena de texto y enmascare todos los caracteres con el\n",
    "carácter '#', excepto los últimos cuatro.'''\n",
    "\n",
    "\n",
    "def almohadilla(variable):\n",
    "    \n",
    "    texto = str(variable) # convertimos variable a string\n",
    "   \n",
    "    if len(texto) <= 4:  # excepcion de no enmascararar si longitud<=4\n",
    "        return texto\n",
    "    else:\n",
    "        return '#' * (len(texto) - 4) + texto[-4:] # enmascarar todos los caracteres excepto los últimos 4\n",
    "\n"
   ]
  },
  {
   "cell_type": "code",
   "execution_count": null,
   "id": "dd2582de",
   "metadata": {},
   "outputs": [],
   "source": [
    "'''Ejercicio 30. Crea una función que determine si dos palabras son anagramas, es decir, si están formadas por las mismas letras\n",
    "pero en diferente orden.'''\n",
    "\n",
    "def anagramas(palabra1, palabra2):\n",
    "    \n",
    "    palabra1 = palabra1.lower() #convertimos a minusculas\n",
    "    palabra2 = palabra2.lower()\n",
    "\n",
    "   \n",
    "    return sorted(palabra1) == sorted(palabra2) #ordena alfabéticamente y compara\n"
   ]
  },
  {
   "cell_type": "code",
   "execution_count": 6,
   "id": "1eceae4a",
   "metadata": {},
   "outputs": [],
   "source": [
    "'''Ejercicio 31. Crea una función que solicite al usuario ingresar una lista de nombres y luego solicite un nombre para buscar en\n",
    "esa lista. Si el nombre está en la lista, se imprime un mensaje indicando que fue encontrado, de lo contrario, se\n",
    "lanza una excepción'''\n",
    "\n",
    "def buscar_nombre():\n",
    "    try:\n",
    "        # Pedimos por pantalla la lista de nombres separados por comas\n",
    "        entrada = input(\"Ingresa una lista de nombres separados por comas: \")\n",
    "        lista_nombres = [nombre.strip().lower() for nombre in entrada.split(\",\")] #separamos para que cada nombre sea un elemento de la lista\n",
    "\n",
    "        # Pedimos por pantalla la el nombre \n",
    "        nombre_buscado= input(\"Introduce el nombre que quieres buscar: \").strip().lower()\n",
    "\n",
    "        # Buscar el nombre\n",
    "        if nombre_buscado in lista_nombres:\n",
    "            print(f\" El nombre '{nombre_buscado}' fue encontrado en la lista.\")\n",
    "        else:\n",
    "            raise ValueError(f\" El nombre '{nombre_buscado}' no se encuentra en la lista.\")\n",
    "    \n",
    "    except ValueError as e:\n",
    "        print(e)\n",
    "\n",
    "\n",
    "\n"
   ]
  },
  {
   "cell_type": "code",
   "execution_count": 3,
   "id": "b885a340",
   "metadata": {},
   "outputs": [],
   "source": [
    "'''Ejercicio 32. Crea una función que tome un nombre completo y una lista de empleados, busque el nombre completo en la lista y\n",
    "devuelve el puesto del empleado si está en la lista, de lo contrario, devuelve un mensaje indicando que la persona\n",
    "no trabaja aquí.'''\n",
    "\n",
    "\n",
    "def persona_puesto(nombre_completo, empleados):\n",
    "    #  el nombre buscado a minúsculas para comparación segura\n",
    "    nombre_completo = nombre_completo.strip().lower()\n",
    "\n",
    "    # Recorrer la lista de empleados\n",
    "    for i in empleados:\n",
    "        if i['nombre'].strip().lower() == nombre_completo:\n",
    "            return f\"El puesto de {i['nombre']} es: {i['puesto']}\"\n",
    "    return \"La persona no trabaja aquí.\"    "
   ]
  },
  {
   "cell_type": "code",
   "execution_count": 18,
   "id": "5764500b",
   "metadata": {},
   "outputs": [],
   "source": [
    "'''Ejercicio 33. Crea una función lambda que sume elementos correspondientes de dos listas dadas'''\n",
    "\n",
    "\n",
    "sumar_listas = lambda lista1, lista2: list(map(lambda x, y: x + y, lista1, lista2))"
   ]
  },
  {
   "cell_type": "code",
   "execution_count": null,
   "id": "c063bc31",
   "metadata": {},
   "outputs": [
    {
     "name": "stdout",
     "output_type": "stream",
     "text": [
      "{'longitud_tronco': 2, 'numero_ramas': 2, 'longitudes_ramas': [2, 1]}\n"
     ]
    }
   ],
   "source": [
    "'''Ejercicio 34. Crea la clase Arbol , define un árbol genérico con un tronco y ramas como atributos. Los métodos disponibles son:\n",
    "crecer_tronco , nueva_rama , crecer_ramas , quitar_rama e info_arbol . El objetivo es implementar estos métodos para\n",
    "manipular la estructura del árbol.'''\n",
    "\n",
    "class Arbol:\n",
    "    def __init__(self):\n",
    "        self.tronco = 1\n",
    "        self.ramas = []\n",
    "\n",
    "    def crecer_tronco(self):\n",
    "        self.tronco += 1\n",
    "\n",
    "    def nueva_rama(self):\n",
    "        self.ramas.append(1)\n",
    "\n",
    "    def crecer_ramas(self):\n",
    "        self.ramas = [rama + 1 for rama in self.ramas]\n",
    "\n",
    "    def quitar_rama(self, posicion):\n",
    "        if 0 <= posicion < len(self.ramas):\n",
    "            del self.ramas[posicion]\n",
    "        else:\n",
    "            print(f\" No se puede quitar la rama en la posición {posicion}: índice fuera de rango.\")\n",
    "\n",
    "    def info_arbol(self):\n",
    "        return {\n",
    "            \"longitud_tronco\": self.tronco,\n",
    "            \"numero_ramas\": len(self.ramas),\n",
    "            \"longitudes_ramas\": self.ramas\n",
    "        }\n",
    "    \n",
    "\n",
    "#Utilizamos como nos pide el enunciado\n",
    "\n",
    "arbol=Arbol() #creamos el arbol y lo llamamos arbol\n",
    "arbol.crecer_tronco() #crece el tronco una unidad\n",
    "arbol.nueva_rama() #añadimos una rama al arbol\n",
    "arbol.crecer_ramas() #crece la rama \n",
    "arbol.nueva_rama() #nuevas ramas\n",
    "arbol.nueva_rama()\n",
    "arbol.quitar_rama(2) #quitamos rama de la posicioin 2 \n",
    "info=arbol.info_arbol() #pedimos información\n",
    "\n",
    "print(info)\n"
   ]
  },
  {
   "cell_type": "code",
   "execution_count": 5,
   "id": "a7585d57",
   "metadata": {},
   "outputs": [
    {
     "name": "stdout",
     "output_type": "stream",
     "text": [
      "Bob recibió 20. Nuevo saldo: 70\n",
      "Alicia transfirió 80 a Bob.\n",
      "Saldo de Alicia: 20\n",
      "Saldo de Bob: 150\n"
     ]
    },
    {
     "ename": "ValueError",
     "evalue": "Alicia no tiene suficiente saldo para retirar 50.",
     "output_type": "error",
     "traceback": [
      "\u001b[31m---------------------------------------------------------------------------\u001b[39m",
      "\u001b[31mValueError\u001b[39m                                Traceback (most recent call last)",
      "\u001b[36mCell\u001b[39m\u001b[36m \u001b[39m\u001b[32mIn[5]\u001b[39m\u001b[32m, line 46\u001b[39m\n\u001b[32m     43\u001b[39m alicia.transferir_dinero(bob, \u001b[32m80\u001b[39m)  \n\u001b[32m     45\u001b[39m \u001b[38;5;66;03m# 4. Retirar 50 unidades de Alicia\u001b[39;00m\n\u001b[32m---> \u001b[39m\u001b[32m46\u001b[39m \u001b[43malicia\u001b[49m\u001b[43m.\u001b[49m\u001b[43mretirar_dinero\u001b[49m\u001b[43m(\u001b[49m\u001b[32;43m50\u001b[39;49m\u001b[43m)\u001b[49m \n",
      "\u001b[36mCell\u001b[39m\u001b[36m \u001b[39m\u001b[32mIn[5]\u001b[39m\u001b[32m, line 14\u001b[39m, in \u001b[36mUsuarioBanco.retirar_dinero\u001b[39m\u001b[34m(self, cantidad)\u001b[39m\n\u001b[32m     12\u001b[39m \u001b[38;5;28;01mdef\u001b[39;00m\u001b[38;5;250m \u001b[39m\u001b[34mretirar_dinero\u001b[39m(\u001b[38;5;28mself\u001b[39m, cantidad):\n\u001b[32m     13\u001b[39m     \u001b[38;5;28;01mif\u001b[39;00m cantidad > \u001b[38;5;28mself\u001b[39m.saldo:\n\u001b[32m---> \u001b[39m\u001b[32m14\u001b[39m         \u001b[38;5;28;01mraise\u001b[39;00m \u001b[38;5;167;01mValueError\u001b[39;00m(\u001b[33mf\u001b[39m\u001b[33m\"\u001b[39m\u001b[38;5;132;01m{\u001b[39;00m\u001b[38;5;28mself\u001b[39m.nombre\u001b[38;5;132;01m}\u001b[39;00m\u001b[33m no tiene suficiente saldo para retirar \u001b[39m\u001b[38;5;132;01m{\u001b[39;00mcantidad\u001b[38;5;132;01m}\u001b[39;00m\u001b[33m.\u001b[39m\u001b[33m\"\u001b[39m)\n\u001b[32m     15\u001b[39m     \u001b[38;5;28;01melse\u001b[39;00m:\n\u001b[32m     16\u001b[39m         \u001b[38;5;28mself\u001b[39m.saldo -= cantidad\n",
      "\u001b[31mValueError\u001b[39m: Alicia no tiene suficiente saldo para retirar 50."
     ]
    }
   ],
   "source": [
    "'''Ejercicio 36. Crea la clase UsuarioBanco ,representa a un usuario de un banco con su nombre, saldo y si tiene o no cuenta\n",
    "corriente. Proporciona métodos para realizar operaciones como retirar dinero, transferir dinero desde otro usuario y\n",
    "agregar dinero al saldo.'''\n",
    "\n",
    "\n",
    "class UsuarioBanco:\n",
    "    def __init__(self, nombre, saldo, cuenta_corriente):\n",
    "        self.nombre = nombre\n",
    "        self.saldo = saldo\n",
    "        self.cuenta_corriente = cuenta_corriente\n",
    "\n",
    "    def retirar_dinero(self, cantidad):\n",
    "        if cantidad > self.saldo:\n",
    "            raise ValueError(f\"{self.nombre} no tiene suficiente saldo para retirar {cantidad}.\")\n",
    "        else:\n",
    "            self.saldo -= cantidad\n",
    "            print(f\"{self.nombre} retiró {cantidad}. Nuevo saldo: {self.saldo}\")\n",
    "\n",
    "    def agregar_dinero(self, cantidad):\n",
    "        self.saldo += cantidad\n",
    "        print(f\"{self.nombre} recibió {cantidad}. Nuevo saldo: {self.saldo}\")\n",
    "\n",
    "    def transferir_dinero(self, destino, cantidad):\n",
    "        if cantidad > self.saldo:\n",
    "            raise ValueError(f\"{self.nombre} no tiene suficiente saldo para transferir {cantidad}.\")\n",
    "        else:\n",
    "            self.saldo -= cantidad\n",
    "            destino.saldo += cantidad\n",
    "            print(f\"{self.nombre} transfirió {cantidad} a {destino.nombre}.\")\n",
    "            print(f\"Saldo de {self.nombre}: {self.saldo}\")\n",
    "            print(f\"Saldo de {destino.nombre}: {destino.saldo}\")\n",
    "\n",
    "\n",
    "#Caso de uso\n",
    "\n",
    "alicia = UsuarioBanco(\"Alicia\", 100, True)\n",
    "bob = UsuarioBanco(\"Bob\", 50, True)\n",
    "\n",
    "# 2. Agregar 20 unidades de saldo a Bob\n",
    "bob.agregar_dinero(20)  # tiene 70\n",
    "\n",
    "# 3. Hacer una transferencia de 80 unidades desde \"Bob\" a \"Alicia\".\n",
    "alicia.transferir_dinero(bob, 80)  \n",
    "\n",
    "# 4. Retirar 50 unidades de Alicia\n",
    "alicia.retirar_dinero(50) \n",
    "\n"
   ]
  },
  {
   "cell_type": "code",
   "execution_count": null,
   "id": "40a0c76f",
   "metadata": {},
   "outputs": [
    {
     "name": "stdout",
     "output_type": "stream",
     "text": [
      "{'hola': 2, 'me': 1, 'llamo': 1, 'carlota': 1, 'que': 1, 'tal.': 1}\n",
      "Hola me llamo Carlota hola que tal.\n",
      "Hola me llamo Carlota que tal.\n"
     ]
    }
   ],
   "source": [
    "'''Ejercicio 37. Crea una función llamada procesar_texto que procesa un texto según la opción especificada: contar_palabras ,\n",
    "reemplazar_palabras , eliminar_palabra . Estas opciones son otras funciones que tenemos que definir primero y llamar dentro\n",
    "de la función procesar_texto .'''\n",
    "\n",
    "def contar_palabras(texto): #cuenta cuántas veces aparece cada palabra\n",
    "    palabras = texto.lower().split() #separa y pone en mayuculas\n",
    "    cuenta = {} #creamos diccionario\n",
    "    for i in palabras:\n",
    "        if i in cuenta:\n",
    "            cuenta[i] += 1\n",
    "        else:\n",
    "            cuenta[i] = 1 #añadimos al contador si se repite\n",
    "    return cuenta\n",
    "\n",
    "\n",
    "def reemplazar_palabras(texto, palabra_inicial, palabra_nueva):\n",
    "    return texto.replace(palabra_inicial, palabra_nueva) #replace cambia inicial por nueva\n",
    "\n",
    "\n",
    "def eliminar_palabra(texto, palabra): #elimina las palabras repetidas en texto\n",
    "    palabras = texto.split()\n",
    "    palabras_filtradas = [i for i in palabras if i != palabra] #guarda las palabras que sean distintas a la palabra que queremos eliminar\n",
    "    return ' '.join(palabras_filtradas) #une de nuevo en una sola cadena\n",
    "\n",
    "def procesar_texto(texto, opcion, *args):\n",
    "    if opcion == \"contar\":\n",
    "        return contar_palabras(texto)\n",
    "    elif opcion == \"reemplazar\":\n",
    "        if len(args) != 2:\n",
    "            raise ValueError(\"Se requieren dos argumentos: palabra_original y palabra_nueva.\")\n",
    "        return reemplazar_palabras(texto, args[0], args[1])\n",
    "    elif opcion == \"eliminar\":\n",
    "        if len(args) != 1:\n",
    "            raise ValueError(\"Se requiere un argumento: palabra a eliminar.\")\n",
    "        return eliminar_palabra(texto, args[0])\n",
    "    else:\n",
    "        raise ValueError(\"Opción no válida. Usa: 'contar', 'reemplazar' o 'eliminar'.\")\n",
    "\n",
    "\n",
    "#Caso de uso\n",
    "\n",
    "texto = \"Hola me llamo Carlota hola que tal.\"\n",
    "\n",
    "# 1. Contar palabras\n",
    "print(procesar_texto(texto, \"contar\"))\n",
    "\n",
    "# 2. Reemplazar \"mundo\" por \"planeta\"\n",
    "print(procesar_texto(texto, \"reemplazar\", \"mundo\", \"planeta\"))\n",
    "\n",
    "# 3. Eliminar la palabra \"hola\"\n",
    "print(procesar_texto(texto, \"eliminar\", \"hola\"))\n",
    "\n"
   ]
  },
  {
   "cell_type": "code",
   "execution_count": 40,
   "id": "4f057018",
   "metadata": {},
   "outputs": [
    {
     "name": "stdout",
     "output_type": "stream",
     "text": [
      "Es por la noche.\n"
     ]
    }
   ],
   "source": [
    "'''Ejercicio 38. Genera un programa que nos diga si es de noche, de día o tarde según la hora proporcionada por el usuario.'''\n",
    "\n",
    "def momento(hora):\n",
    "    if 0 <= hora < 6:\n",
    "        return \"Es por la noche.\"\n",
    "    elif 6 <= hora < 12:\n",
    "        return \"Es por la mañana.\"\n",
    "    elif 12 <= hora < 18:\n",
    "        return \"Es por la tarde.\"\n",
    "    elif 18 <= hora < 24:\n",
    "        return \"Es por la noche.\"\n",
    "    else:\n",
    "        return \"Hora no válida. Debe estar entre 0 y 23.\"\n",
    "\n",
    "try:\n",
    "    entrada = input(\"Introduce la hora (formato 24h, solo número entero): \")\n",
    "    hora = int(entrada)\n",
    "    resultado = momento(hora)\n",
    "    print(resultado)\n",
    "except ValueError:\n",
    "    print(\" Entrada no válida. Por favor, ingresa un número entero.\")\n"
   ]
  },
  {
   "cell_type": "code",
   "execution_count": 44,
   "id": "a17f2843",
   "metadata": {},
   "outputs": [
    {
     "name": "stdout",
     "output_type": "stream",
     "text": [
      "Entrada no válida. Ingresa un número entero entre 0 y 100.\n"
     ]
    }
   ],
   "source": [
    "'''Ejercicio 39. Escribe un programa que determine qué calificación en texto tiene un alumno en base a su calificación numérica'''\n",
    "\n",
    "def calificacion(nota):\n",
    "    if 0 <= nota <= 69:\n",
    "        return \"Insuficiente\"\n",
    "    elif 70 <= nota <= 79:\n",
    "        return \"Bien\"\n",
    "    elif 80 <= nota <= 89:\n",
    "        return \"Muy bien\"\n",
    "    elif 90 <= nota <= 100:\n",
    "        return \"Excelente\"\n",
    "    else:\n",
    "        return \"Calificación fuera de rango (debe estar entre 0 y 100).\"\n",
    "\n",
    "try:\n",
    "    entrada = input(\"Ingresa la calificación del alumno (0-100): \")\n",
    "    nota = int(entrada)\n",
    "    resultado = calificacion(nota)\n",
    "    print(resultado)\n",
    "except ValueError:\n",
    "    print(\"Entrada no válida. Ingresa un número entero entre 0 y 100.\")\n"
   ]
  },
  {
   "cell_type": "code",
   "execution_count": 48,
   "id": "00e70e5c",
   "metadata": {},
   "outputs": [],
   "source": [
    "'''Ejercicio 40. Escribe una función que tome dos parámetros: figura (una cadena que puede ser \"rectangulo\" , \"circulo\" o\n",
    "\"triangulo\" ) y datos (una tupla con los datos necesarios para calcular el área de la figura'''\n",
    "\n",
    "import math\n",
    "\n",
    "def area(figura, datos):\n",
    "    if figura == \"rectangulo\":\n",
    "        if len(datos) != 2:\n",
    "            return \" Se necesitan base y altura para un rectángulo.\"\n",
    "        base, altura = datos\n",
    "        return base * altura\n",
    "\n",
    "    elif figura == \"triangulo\":\n",
    "        if len(datos) != 2:\n",
    "            return \"Se necesitan base y altura para un triángulo.\"\n",
    "        base, altura = datos\n",
    "        return (base * altura) / 2\n",
    "\n",
    "    elif figura == \"circulo\":\n",
    "        if len(datos) != 1:\n",
    "            return \"Se necesita el radio para un círculo.\"\n",
    "        radio = datos[0]\n",
    "        return math.pi * radio**2\n",
    "\n",
    "    else:\n",
    "        return \" Figura no reconocida. Usa: rectangulo, circulo o triangulo.\"\n",
    "    "
   ]
  },
  {
   "cell_type": "code",
   "execution_count": 49,
   "id": "ffbf3176",
   "metadata": {},
   "outputs": [
    {
     "name": "stdout",
     "output_type": "stream",
     "text": [
      " Se aplicó un descuento de 10.0€. Precio final: 35.00€\n"
     ]
    }
   ],
   "source": [
    "'''Ejercicio 41. En este ejercicio, se te pedirá que escribas un programa en Python que utilice condicionales para determinar el\n",
    "monto final de una compra en una tienda en línea, después de aplicar un descuento.'''\n",
    "\n",
    "\n",
    "\n",
    "try:\n",
    "    # 1. Solicita al usuario que ingrese el precio original de un artículo\n",
    "    precio_original = float(input(\"Ingresa el precio original del artículo (€): \"))\n",
    "\n",
    "    if precio_original <= 0:\n",
    "        print(\"El precio debe ser mayor que 0.\")\n",
    "    else:\n",
    "        # 2. Pregunta al usuario si tiene un cupón de descuento\n",
    "        tiene_cupon = input(\"¿Tienes un cupón de descuento? (sí / no): \").strip().lower()\n",
    "\n",
    "        if tiene_cupon == \"sí\" or tiene_cupon == \"si\":\n",
    "            # 3. Solicita valor del cupón\n",
    "            valor_cupon = float(input(\"Ingresa el valor del cupón (€): \"))\n",
    "\n",
    "            # 4.Aplica el descuento al precio original del artículo, verificando la validdez del cupón\n",
    "            if valor_cupon > 0:\n",
    "                precio_final = precio_original - valor_cupon\n",
    "                if precio_final < 0:\n",
    "                    precio_final = 0  # No puede ser negativo\n",
    "                print(f\" Se aplicó un descuento de {valor_cupon}€. Precio final: {precio_final:.2f}€\")\n",
    "            else:\n",
    "                print(\" El cupón debe tener un valor mayor que 0. No se aplicó descuento.\")\n",
    "                print(f\" Precio final: {precio_original:.2f}€\")\n",
    "\n",
    "        elif tiene_cupon == \"no\":\n",
    "            print(f\"Precio final sin descuento: {precio_original:.2f}€\")\n",
    "        else:\n",
    "            print(\"Respuesta inválida. Escribe 'sí' o 'no'.\")\n",
    "\n",
    "except ValueError:\n",
    "    print(\"Entrada inválida.\")\n"
   ]
  },
  {
   "cell_type": "code",
   "execution_count": null,
   "id": "cfecb90a",
   "metadata": {},
   "outputs": [],
   "source": []
  },
  {
   "cell_type": "code",
   "execution_count": null,
   "id": "9bccd19e",
   "metadata": {},
   "outputs": [],
   "source": []
  }
 ],
 "metadata": {
  "kernelspec": {
   "display_name": "Python 3",
   "language": "python",
   "name": "python3"
  },
  "language_info": {
   "codemirror_mode": {
    "name": "ipython",
    "version": 3
   },
   "file_extension": ".py",
   "mimetype": "text/x-python",
   "name": "python",
   "nbconvert_exporter": "python",
   "pygments_lexer": "ipython3",
   "version": "3.13.2"
  }
 },
 "nbformat": 4,
 "nbformat_minor": 5
}
